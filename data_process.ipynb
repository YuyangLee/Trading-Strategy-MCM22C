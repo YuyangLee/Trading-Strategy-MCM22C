{
 "cells": [
  {
   "cell_type": "code",
   "execution_count": 33,
   "metadata": {},
   "outputs": [],
   "source": [
    "import json\n",
    "\n",
    "import numpy as np\n",
    "import pandas as pd\n",
    "import matplotlib.pyplot as plt\n",
    "\n",
    "import statsmodels.api as sm"
   ]
  },
  {
   "cell_type": "code",
   "execution_count": 34,
   "metadata": {},
   "outputs": [],
   "source": [
    "btc_data_path  = \"data/BCHAIN-MKPRU_refine.csv\"\n",
    "gold_data_path = \"data/LBMA-GOLD_refine.csv\""
   ]
  },
  {
   "cell_type": "markdown",
   "metadata": {},
   "source": [
    "# Reading Data"
   ]
  },
  {
   "cell_type": "code",
   "execution_count": 39,
   "metadata": {},
   "outputs": [],
   "source": [
    "btc_raw  = pd.read_csv(btc_data_path)\n",
    "gold_raw = pd.read_csv(gold_data_path).set_index('Date')"
   ]
  },
  {
   "cell_type": "markdown",
   "metadata": {},
   "source": [
    "# Data Processing"
   ]
  },
  {
   "cell_type": "code",
   "execution_count": 41,
   "metadata": {},
   "outputs": [
    {
     "ename": "ValueError",
     "evalue": "Length of values (1265) does not match length of index (1826)",
     "output_type": "error",
     "traceback": [
      "\u001b[0;31m---------------------------------------------------------------------------\u001b[0m",
      "\u001b[0;31mValueError\u001b[0m                                Traceback (most recent call last)",
      "\u001b[1;32m/home/yuyang/dev/MCM-ICM-2022/data_process.ipynb Cell 6'\u001b[0m in \u001b[0;36m<module>\u001b[0;34m\u001b[0m\n\u001b[1;32m      <a href='vscode-notebook-cell://ssh-remote%2B7b22686f73744e616d65223a225448555f42494741495f5a657573227d/home/yuyang/dev/MCM-ICM-2022/data_process.ipynb#ch0000006vscode-remote?line=0'>1</a>\u001b[0m data \u001b[39m=\u001b[39m pd\u001b[39m.\u001b[39mDataFrame(data\u001b[39m=\u001b[39mbtc_raw, columns\u001b[39m=\u001b[39m[\u001b[39m'\u001b[39m\u001b[39mDate\u001b[39m\u001b[39m'\u001b[39m, \u001b[39m'\u001b[39m\u001b[39mValue\u001b[39m\u001b[39m'\u001b[39m])\u001b[39m.\u001b[39mrename(columns\u001b[39m=\u001b[39m{ \u001b[39m'\u001b[39m\u001b[39mDate\u001b[39m\u001b[39m'\u001b[39m: \u001b[39m'\u001b[39m\u001b[39mdate\u001b[39m\u001b[39m'\u001b[39m, \u001b[39m'\u001b[39m\u001b[39mValue\u001b[39m\u001b[39m'\u001b[39m: \u001b[39m'\u001b[39m\u001b[39mbtc\u001b[39m\u001b[39m'\u001b[39m })\n\u001b[1;32m      <a href='vscode-notebook-cell://ssh-remote%2B7b22686f73744e616d65223a225448555f42494741495f5a657573227d/home/yuyang/dev/MCM-ICM-2022/data_process.ipynb#ch0000006vscode-remote?line=1'>2</a>\u001b[0m \u001b[39m# data.insert(0, 'tag', pd.DataFrame(np.arange(data.shape[0])))\u001b[39;00m\n\u001b[0;32m----> <a href='vscode-notebook-cell://ssh-remote%2B7b22686f73744e616d65223a225448555f42494741495f5a657573227d/home/yuyang/dev/MCM-ICM-2022/data_process.ipynb#ch0000006vscode-remote?line=2'>3</a>\u001b[0m data\u001b[39m.\u001b[39;49minsert(\u001b[39m0\u001b[39;49m, \u001b[39m'\u001b[39;49m\u001b[39mgold\u001b[39;49m\u001b[39m'\u001b[39;49m, gold_raw)\n\u001b[1;32m      <a href='vscode-notebook-cell://ssh-remote%2B7b22686f73744e616d65223a225448555f42494741495f5a657573227d/home/yuyang/dev/MCM-ICM-2022/data_process.ipynb#ch0000006vscode-remote?line=4'>5</a>\u001b[0m data \u001b[39m=\u001b[39m data\u001b[39m.\u001b[39mset_index(\u001b[39m'\u001b[39m\u001b[39mdate\u001b[39m\u001b[39m'\u001b[39m)\n\u001b[1;32m      <a href='vscode-notebook-cell://ssh-remote%2B7b22686f73744e616d65223a225448555f42494741495f5a657573227d/home/yuyang/dev/MCM-ICM-2022/data_process.ipynb#ch0000006vscode-remote?line=5'>6</a>\u001b[0m data\n",
      "File \u001b[0;32m~/anaconda3/envs/trading/lib/python3.10/site-packages/pandas/core/frame.py:4438\u001b[0m, in \u001b[0;36mDataFrame.insert\u001b[0;34m(self, loc, column, value, allow_duplicates)\u001b[0m\n\u001b[1;32m   <a href='file:///~/anaconda3/envs/trading/lib/python3.10/site-packages/pandas/core/frame.py?line=4434'>4435</a>\u001b[0m \u001b[39mif\u001b[39;00m \u001b[39mnot\u001b[39;00m \u001b[39misinstance\u001b[39m(loc, \u001b[39mint\u001b[39m):\n\u001b[1;32m   <a href='file:///~/anaconda3/envs/trading/lib/python3.10/site-packages/pandas/core/frame.py?line=4435'>4436</a>\u001b[0m     \u001b[39mraise\u001b[39;00m \u001b[39mTypeError\u001b[39;00m(\u001b[39m\"\u001b[39m\u001b[39mloc must be int\u001b[39m\u001b[39m\"\u001b[39m)\n\u001b[0;32m-> <a href='file:///~/anaconda3/envs/trading/lib/python3.10/site-packages/pandas/core/frame.py?line=4437'>4438</a>\u001b[0m value \u001b[39m=\u001b[39m \u001b[39mself\u001b[39;49m\u001b[39m.\u001b[39;49m_sanitize_column(value)\n\u001b[1;32m   <a href='file:///~/anaconda3/envs/trading/lib/python3.10/site-packages/pandas/core/frame.py?line=4438'>4439</a>\u001b[0m \u001b[39mself\u001b[39m\u001b[39m.\u001b[39m_mgr\u001b[39m.\u001b[39minsert(loc, column, value)\n",
      "File \u001b[0;32m~/anaconda3/envs/trading/lib/python3.10/site-packages/pandas/core/frame.py:4529\u001b[0m, in \u001b[0;36mDataFrame._sanitize_column\u001b[0;34m(self, value)\u001b[0m\n\u001b[1;32m   <a href='file:///~/anaconda3/envs/trading/lib/python3.10/site-packages/pandas/core/frame.py?line=4525'>4526</a>\u001b[0m     \u001b[39mreturn\u001b[39;00m _reindex_for_setitem(value, \u001b[39mself\u001b[39m\u001b[39m.\u001b[39mindex)\n\u001b[1;32m   <a href='file:///~/anaconda3/envs/trading/lib/python3.10/site-packages/pandas/core/frame.py?line=4527'>4528</a>\u001b[0m \u001b[39mif\u001b[39;00m is_list_like(value):\n\u001b[0;32m-> <a href='file:///~/anaconda3/envs/trading/lib/python3.10/site-packages/pandas/core/frame.py?line=4528'>4529</a>\u001b[0m     com\u001b[39m.\u001b[39;49mrequire_length_match(value, \u001b[39mself\u001b[39;49m\u001b[39m.\u001b[39;49mindex)\n\u001b[1;32m   <a href='file:///~/anaconda3/envs/trading/lib/python3.10/site-packages/pandas/core/frame.py?line=4529'>4530</a>\u001b[0m \u001b[39mreturn\u001b[39;00m sanitize_array(value, \u001b[39mself\u001b[39m\u001b[39m.\u001b[39mindex, copy\u001b[39m=\u001b[39m\u001b[39mTrue\u001b[39;00m, allow_2d\u001b[39m=\u001b[39m\u001b[39mTrue\u001b[39;00m)\n",
      "File \u001b[0;32m~/anaconda3/envs/trading/lib/python3.10/site-packages/pandas/core/common.py:557\u001b[0m, in \u001b[0;36mrequire_length_match\u001b[0;34m(data, index)\u001b[0m\n\u001b[1;32m    <a href='file:///~/anaconda3/envs/trading/lib/python3.10/site-packages/pandas/core/common.py?line=552'>553</a>\u001b[0m \u001b[39m\"\"\"\u001b[39;00m\n\u001b[1;32m    <a href='file:///~/anaconda3/envs/trading/lib/python3.10/site-packages/pandas/core/common.py?line=553'>554</a>\u001b[0m \u001b[39mCheck the length of data matches the length of the index.\u001b[39;00m\n\u001b[1;32m    <a href='file:///~/anaconda3/envs/trading/lib/python3.10/site-packages/pandas/core/common.py?line=554'>555</a>\u001b[0m \u001b[39m\"\"\"\u001b[39;00m\n\u001b[1;32m    <a href='file:///~/anaconda3/envs/trading/lib/python3.10/site-packages/pandas/core/common.py?line=555'>556</a>\u001b[0m \u001b[39mif\u001b[39;00m \u001b[39mlen\u001b[39m(data) \u001b[39m!=\u001b[39m \u001b[39mlen\u001b[39m(index):\n\u001b[0;32m--> <a href='file:///~/anaconda3/envs/trading/lib/python3.10/site-packages/pandas/core/common.py?line=556'>557</a>\u001b[0m     \u001b[39mraise\u001b[39;00m \u001b[39mValueError\u001b[39;00m(\n\u001b[1;32m    <a href='file:///~/anaconda3/envs/trading/lib/python3.10/site-packages/pandas/core/common.py?line=557'>558</a>\u001b[0m         \u001b[39m\"\u001b[39m\u001b[39mLength of values \u001b[39m\u001b[39m\"\u001b[39m\n\u001b[1;32m    <a href='file:///~/anaconda3/envs/trading/lib/python3.10/site-packages/pandas/core/common.py?line=558'>559</a>\u001b[0m         \u001b[39mf\u001b[39m\u001b[39m\"\u001b[39m\u001b[39m(\u001b[39m\u001b[39m{\u001b[39;00m\u001b[39mlen\u001b[39m(data)\u001b[39m}\u001b[39;00m\u001b[39m) \u001b[39m\u001b[39m\"\u001b[39m\n\u001b[1;32m    <a href='file:///~/anaconda3/envs/trading/lib/python3.10/site-packages/pandas/core/common.py?line=559'>560</a>\u001b[0m         \u001b[39m\"\u001b[39m\u001b[39mdoes not match length of index \u001b[39m\u001b[39m\"\u001b[39m\n\u001b[1;32m    <a href='file:///~/anaconda3/envs/trading/lib/python3.10/site-packages/pandas/core/common.py?line=560'>561</a>\u001b[0m         \u001b[39mf\u001b[39m\u001b[39m\"\u001b[39m\u001b[39m(\u001b[39m\u001b[39m{\u001b[39;00m\u001b[39mlen\u001b[39m(index)\u001b[39m}\u001b[39;00m\u001b[39m)\u001b[39m\u001b[39m\"\u001b[39m\n\u001b[1;32m    <a href='file:///~/anaconda3/envs/trading/lib/python3.10/site-packages/pandas/core/common.py?line=561'>562</a>\u001b[0m     )\n",
      "\u001b[0;31mValueError\u001b[0m: Length of values (1265) does not match length of index (1826)"
     ]
    }
   ],
   "source": [
    "data = pd.DataFrame(data=btc_raw, columns=['Date', 'Value']).rename(columns={ 'Date': 'date', 'Value': 'btc' })\n",
    "# data.insert(0, 'tag', pd.DataFrame(np.arange(data.shape[0])))\n",
    "# data.insert(0, 'gold', gold_raw)\n",
    "\n",
    "data = data.set_index('date')\n",
    "data"
   ]
  },
  {
   "cell_type": "code",
   "execution_count": 37,
   "metadata": {},
   "outputs": [
    {
     "data": {
      "text/html": [
       "<div>\n",
       "<style scoped>\n",
       "    .dataframe tbody tr th:only-of-type {\n",
       "        vertical-align: middle;\n",
       "    }\n",
       "\n",
       "    .dataframe tbody tr th {\n",
       "        vertical-align: top;\n",
       "    }\n",
       "\n",
       "    .dataframe thead th {\n",
       "        text-align: right;\n",
       "    }\n",
       "</style>\n",
       "<table border=\"1\" class=\"dataframe\">\n",
       "  <thead>\n",
       "    <tr style=\"text-align: right;\">\n",
       "      <th></th>\n",
       "      <th>co2</th>\n",
       "    </tr>\n",
       "  </thead>\n",
       "  <tbody>\n",
       "    <tr>\n",
       "      <th>1958-03-29</th>\n",
       "      <td>316.1</td>\n",
       "    </tr>\n",
       "    <tr>\n",
       "      <th>1958-04-05</th>\n",
       "      <td>317.3</td>\n",
       "    </tr>\n",
       "    <tr>\n",
       "      <th>1958-04-12</th>\n",
       "      <td>317.6</td>\n",
       "    </tr>\n",
       "    <tr>\n",
       "      <th>1958-04-19</th>\n",
       "      <td>317.5</td>\n",
       "    </tr>\n",
       "    <tr>\n",
       "      <th>1958-04-26</th>\n",
       "      <td>316.4</td>\n",
       "    </tr>\n",
       "    <tr>\n",
       "      <th>...</th>\n",
       "      <td>...</td>\n",
       "    </tr>\n",
       "    <tr>\n",
       "      <th>2001-12-01</th>\n",
       "      <td>370.3</td>\n",
       "    </tr>\n",
       "    <tr>\n",
       "      <th>2001-12-08</th>\n",
       "      <td>370.8</td>\n",
       "    </tr>\n",
       "    <tr>\n",
       "      <th>2001-12-15</th>\n",
       "      <td>371.2</td>\n",
       "    </tr>\n",
       "    <tr>\n",
       "      <th>2001-12-22</th>\n",
       "      <td>371.3</td>\n",
       "    </tr>\n",
       "    <tr>\n",
       "      <th>2001-12-29</th>\n",
       "      <td>371.5</td>\n",
       "    </tr>\n",
       "  </tbody>\n",
       "</table>\n",
       "<p>2284 rows × 1 columns</p>\n",
       "</div>"
      ],
      "text/plain": [
       "              co2\n",
       "1958-03-29  316.1\n",
       "1958-04-05  317.3\n",
       "1958-04-12  317.6\n",
       "1958-04-19  317.5\n",
       "1958-04-26  316.4\n",
       "...           ...\n",
       "2001-12-01  370.3\n",
       "2001-12-08  370.8\n",
       "2001-12-15  371.2\n",
       "2001-12-22  371.3\n",
       "2001-12-29  371.5\n",
       "\n",
       "[2284 rows x 1 columns]"
      ]
     },
     "execution_count": 37,
     "metadata": {},
     "output_type": "execute_result"
    }
   ],
   "source": [
    "dta = sm.datasets.co2.load_pandas().data\n",
    "# deal with missing values. see issue\n",
    "dta.co2.interpolate(inplace=True)\n",
    "\n",
    "dta\n",
    "\n",
    "# res = sm.tsa.seasonal_decompose(dta.co2)\n",
    "# resplot = res.plot()"
   ]
  },
  {
   "cell_type": "code",
   "execution_count": 38,
   "metadata": {},
   "outputs": [
    {
     "ename": "ValueError",
     "evalue": "This function does not handle missing values",
     "output_type": "error",
     "traceback": [
      "\u001b[0;31m---------------------------------------------------------------------------\u001b[0m",
      "\u001b[0;31mValueError\u001b[0m                                Traceback (most recent call last)",
      "\u001b[1;32m/home/yuyang/dev/MCM-ICM-2022/data_process.ipynb Cell 8'\u001b[0m in \u001b[0;36m<module>\u001b[0;34m\u001b[0m\n\u001b[1;32m      <a href='vscode-notebook-cell://ssh-remote%2B7b22686f73744e616d65223a225448555f42494741495f5a657573227d/home/yuyang/dev/MCM-ICM-2022/data_process.ipynb#ch0000011vscode-remote?line=0'>1</a>\u001b[0m \u001b[39m# data.btc.interpolate(inplace=True)\u001b[39;00m\n\u001b[0;32m----> <a href='vscode-notebook-cell://ssh-remote%2B7b22686f73744e616d65223a225448555f42494741495f5a657573227d/home/yuyang/dev/MCM-ICM-2022/data_process.ipynb#ch0000011vscode-remote?line=2'>3</a>\u001b[0m res \u001b[39m=\u001b[39m sm\u001b[39m.\u001b[39;49mtsa\u001b[39m.\u001b[39;49mseasonal_decompose(pd\u001b[39m.\u001b[39;49mDataFrame(data\u001b[39m=\u001b[39;49mdata, columns\u001b[39m=\u001b[39;49m[\u001b[39m'\u001b[39;49m\u001b[39mdate\u001b[39;49m\u001b[39m'\u001b[39;49m, \u001b[39m'\u001b[39;49m\u001b[39mbtc\u001b[39;49m\u001b[39m'\u001b[39;49m]))\n\u001b[1;32m      <a href='vscode-notebook-cell://ssh-remote%2B7b22686f73744e616d65223a225448555f42494741495f5a657573227d/home/yuyang/dev/MCM-ICM-2022/data_process.ipynb#ch0000011vscode-remote?line=3'>4</a>\u001b[0m resplot \u001b[39m=\u001b[39m res\u001b[39m.\u001b[39mplot()\n",
      "File \u001b[0;32m~/anaconda3/envs/trading/lib/python3.10/site-packages/statsmodels/tsa/seasonal.py:146\u001b[0m, in \u001b[0;36mseasonal_decompose\u001b[0;34m(x, model, filt, period, two_sided, extrapolate_trend)\u001b[0m\n\u001b[1;32m    <a href='file:///~/anaconda3/envs/trading/lib/python3.10/site-packages/statsmodels/tsa/seasonal.py?line=142'>143</a>\u001b[0m nobs \u001b[39m=\u001b[39m \u001b[39mlen\u001b[39m(x)\n\u001b[1;32m    <a href='file:///~/anaconda3/envs/trading/lib/python3.10/site-packages/statsmodels/tsa/seasonal.py?line=144'>145</a>\u001b[0m \u001b[39mif\u001b[39;00m \u001b[39mnot\u001b[39;00m np\u001b[39m.\u001b[39mall(np\u001b[39m.\u001b[39misfinite(x)):\n\u001b[0;32m--> <a href='file:///~/anaconda3/envs/trading/lib/python3.10/site-packages/statsmodels/tsa/seasonal.py?line=145'>146</a>\u001b[0m     \u001b[39mraise\u001b[39;00m \u001b[39mValueError\u001b[39;00m(\u001b[39m\"\u001b[39m\u001b[39mThis function does not handle missing values\u001b[39m\u001b[39m\"\u001b[39m)\n\u001b[1;32m    <a href='file:///~/anaconda3/envs/trading/lib/python3.10/site-packages/statsmodels/tsa/seasonal.py?line=146'>147</a>\u001b[0m \u001b[39mif\u001b[39;00m model\u001b[39m.\u001b[39mstartswith(\u001b[39m\"\u001b[39m\u001b[39mm\u001b[39m\u001b[39m\"\u001b[39m):\n\u001b[1;32m    <a href='file:///~/anaconda3/envs/trading/lib/python3.10/site-packages/statsmodels/tsa/seasonal.py?line=147'>148</a>\u001b[0m     \u001b[39mif\u001b[39;00m np\u001b[39m.\u001b[39many(x \u001b[39m<\u001b[39m\u001b[39m=\u001b[39m \u001b[39m0\u001b[39m):\n",
      "\u001b[0;31mValueError\u001b[0m: This function does not handle missing values"
     ]
    }
   ],
   "source": [
    "# data.btc.interpolate(inplace=True)\n",
    "\n",
    "res = sm.tsa.seasonal_decompose(pd.DataFrame(data=data, columns=['date', 'btc']))\n",
    "resplot = res.plot()"
   ]
  }
 ],
 "metadata": {
  "interpreter": {
   "hash": "0222d660ba959656e770bc8bca348a42010dac56f045bf47a3d4c09cb49d3f9d"
  },
  "kernelspec": {
   "display_name": "Python 3.10.0 ('trading')",
   "language": "python",
   "name": "python3"
  },
  "language_info": {
   "codemirror_mode": {
    "name": "ipython",
    "version": 3
   },
   "file_extension": ".py",
   "mimetype": "text/x-python",
   "name": "python",
   "nbconvert_exporter": "python",
   "pygments_lexer": "ipython3",
   "version": "3.10.0"
  },
  "orig_nbformat": 4
 },
 "nbformat": 4,
 "nbformat_minor": 2
}
