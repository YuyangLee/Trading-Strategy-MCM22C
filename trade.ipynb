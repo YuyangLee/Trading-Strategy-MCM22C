{
 "cells": [
  {
   "cell_type": "code",
   "execution_count": 1,
   "metadata": {},
   "outputs": [],
   "source": [
    "import numpy as np\n",
    "import pandas as pd\n",
    "import torch\n",
    "\n",
    "import matplotlib.pyplot as plt\n",
    "import seaborn\n",
    "\n",
    "from utils.utils import *"
   ]
  },
  {
   "cell_type": "code",
   "execution_count": 2,
   "metadata": {},
   "outputs": [],
   "source": [
    "data_path = \"data/data.csv\"\n",
    "\n",
    "device = 'cuda'"
   ]
  },
  {
   "cell_type": "code",
   "execution_count": 3,
   "metadata": {},
   "outputs": [],
   "source": [
    "data = pd.read_csv(data_path)\n"
   ]
  },
  {
   "cell_type": "code",
   "execution_count": 4,
   "metadata": {},
   "outputs": [
    {
     "name": "stdout",
     "output_type": "stream",
     "text": [
      "Totally 1826 days of trade, with 571 unavailable for gold.\n"
     ]
    }
   ],
   "source": [
    "batch_size = 4096\n",
    "num_days = data.shape[0]\n",
    "num_assets = 2\n",
    "\n",
    "assets = ['btc', 'gold']\n",
    "discount = [0.98, 0.99]\n",
    "print(f\"Totally { num_days } days of trade, with { torch.from_numpy(data['gold_tradable'].to_numpy() == False).to(device).int().sum().item() } unavailable for gold.\")"
   ]
  },
  {
   "cell_type": "code",
   "execution_count": 5,
   "metadata": {},
   "outputs": [],
   "source": [
    "prices = torch.from_numpy(pd.DataFrame(data=data, columns=['btc', 'gold_inter']).to_numpy()).to(device)\n",
    "prices = prices.unsqueeze(0).expand((batch_size, num_days, num_assets))"
   ]
  },
  {
   "cell_type": "code",
   "execution_count": 6,
   "metadata": {},
   "outputs": [
    {
     "data": {
      "text/plain": [
       "torch.Size([4096, 1826, 2])"
      ]
     },
     "execution_count": 6,
     "metadata": {},
     "output_type": "execute_result"
    }
   ],
   "source": [
    "traj_random = torch.sign(torch.normal(0, 1, [batch_size, num_days, num_assets], device=device))\n",
    "traj_random.shape"
   ]
  },
  {
   "cell_type": "code",
   "execution_count": 13,
   "metadata": {},
   "outputs": [
    {
     "data": {
      "text/plain": [
       "tensor([[  621.6500,  1324.6000],\n",
       "        [  609.6700,  1324.6000],\n",
       "        [  610.9200,  1323.6500],\n",
       "        ...,\n",
       "        [46809.1719,  1786.0000],\n",
       "        [46078.3789,  1788.2500],\n",
       "        [46368.6914,  1794.6000]])"
      ]
     },
     "execution_count": 13,
     "metadata": {},
     "output_type": "execute_result"
    }
   ],
   "source": [
    "data.describe()"
   ]
  }
 ],
 "metadata": {
  "interpreter": {
   "hash": "0222d660ba959656e770bc8bca348a42010dac56f045bf47a3d4c09cb49d3f9d"
  },
  "kernelspec": {
   "display_name": "Python 3.10.0 ('trading')",
   "language": "python",
   "name": "python3"
  },
  "language_info": {
   "codemirror_mode": {
    "name": "ipython",
    "version": 3
   },
   "file_extension": ".py",
   "mimetype": "text/x-python",
   "name": "python",
   "nbconvert_exporter": "python",
   "pygments_lexer": "ipython3",
   "version": "3.9.7"
  },
  "orig_nbformat": 4
 },
 "nbformat": 4,
 "nbformat_minor": 2
}
