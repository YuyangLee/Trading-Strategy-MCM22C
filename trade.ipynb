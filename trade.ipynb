{
 "cells": [
  {
   "cell_type": "code",
   "execution_count": 1,
   "metadata": {},
   "outputs": [],
   "source": [
    "import numpy as np\n",
    "import pandas as pd\n",
    "import torch\n",
    "\n",
    "import matplotlib.pyplot as plt\n",
    "import seaborn\n",
    "\n",
    "from utils.utils import *"
   ]
  },
  {
   "cell_type": "code",
   "execution_count": 2,
   "metadata": {},
   "outputs": [],
   "source": [
    "data_path = \"data/data.csv\"\n",
    "\n",
    "device = 'cuda'"
   ]
  },
  {
   "cell_type": "code",
   "execution_count": 3,
   "metadata": {},
   "outputs": [],
   "source": [
    "data = pd.read_csv(data_path)\n"
   ]
  },
  {
   "cell_type": "code",
   "execution_count": 4,
   "metadata": {},
   "outputs": [
    {
     "name": "stdout",
     "output_type": "stream",
     "text": [
      "Totally 1826 days of trade, with 571 unavailable for gold.\n"
     ]
    }
   ],
   "source": [
    "batch_size = 4096\n",
    "num_days = data.shape[0]\n",
    "num_assets = 2\n",
    "\n",
    "assets = ['btc', 'gold']\n",
    "discount = [0.98, 0.99]\n",
    "print(f\"Totally { num_days } days of trade, with { torch.from_numpy(data['gold_tradable'].to_numpy() == False).to(device).int().sum().item() } unavailable for gold.\")"
   ]
  },
  {
   "cell_type": "code",
   "execution_count": 5,
   "metadata": {},
   "outputs": [],
   "source": [
    "prices = torch.from_numpy(pd.DataFrame(data=data, columns=['btc', 'gold_inter']).to_numpy()).to(device)\n",
    "prices = prices.unsqueeze(0).expand((batch_size, num_days, num_assets))"
   ]
  },
  {
   "cell_type": "code",
   "execution_count": 6,
   "metadata": {},
   "outputs": [
    {
     "data": {
      "text/plain": [
       "torch.Size([4096, 1826, 2])"
      ]
     },
     "execution_count": 6,
     "metadata": {},
     "output_type": "execute_result"
    }
   ],
   "source": [
    "traj_random = torch.sign(torch.normal(0, 1, [batch_size, num_days, num_assets], device=device))\n",
    "traj_random.shape"
   ]
  },
  {
   "cell_type": "code",
   "execution_count": 14,
   "metadata": {},
   "outputs": [
    {
     "data": {
      "text/html": [
       "<div>\n",
       "<style scoped>\n",
       "    .dataframe tbody tr th:only-of-type {\n",
       "        vertical-align: middle;\n",
       "    }\n",
       "\n",
       "    .dataframe tbody tr th {\n",
       "        vertical-align: top;\n",
       "    }\n",
       "\n",
       "    .dataframe thead th {\n",
       "        text-align: right;\n",
       "    }\n",
       "</style>\n",
       "<table border=\"1\" class=\"dataframe\">\n",
       "  <thead>\n",
       "    <tr style=\"text-align: right;\">\n",
       "      <th></th>\n",
       "      <th>btc</th>\n",
       "      <th>gold</th>\n",
       "      <th>gold_inter</th>\n",
       "      <th>btc_diff</th>\n",
       "      <th>gold_diff</th>\n",
       "    </tr>\n",
       "  </thead>\n",
       "  <tbody>\n",
       "    <tr>\n",
       "      <th>count</th>\n",
       "      <td>1826.000000</td>\n",
       "      <td>1255.000000</td>\n",
       "      <td>1826.000000</td>\n",
       "      <td>1825.000000</td>\n",
       "      <td>1825.000000</td>\n",
       "    </tr>\n",
       "    <tr>\n",
       "      <th>mean</th>\n",
       "      <td>12206.068281</td>\n",
       "      <td>1464.549402</td>\n",
       "      <td>1463.965813</td>\n",
       "      <td>25.066871</td>\n",
       "      <td>0.257534</td>\n",
       "    </tr>\n",
       "    <tr>\n",
       "      <th>std</th>\n",
       "      <td>14043.891627</td>\n",
       "      <td>249.291812</td>\n",
       "      <td>249.541542</td>\n",
       "      <td>807.628834</td>\n",
       "      <td>10.594118</td>\n",
       "    </tr>\n",
       "    <tr>\n",
       "      <th>min</th>\n",
       "      <td>594.080000</td>\n",
       "      <td>1125.700000</td>\n",
       "      <td>1125.700000</td>\n",
       "      <td>-7742.910000</td>\n",
       "      <td>-104.850000</td>\n",
       "    </tr>\n",
       "    <tr>\n",
       "      <th>25%</th>\n",
       "      <td>3994.982500</td>\n",
       "      <td>1266.175000</td>\n",
       "      <td>1266.262500</td>\n",
       "      <td>-92.900000</td>\n",
       "      <td>-3.066667</td>\n",
       "    </tr>\n",
       "    <tr>\n",
       "      <th>50%</th>\n",
       "      <td>7924.460000</td>\n",
       "      <td>1329.050000</td>\n",
       "      <td>1328.858333</td>\n",
       "      <td>4.302625</td>\n",
       "      <td>0.300000</td>\n",
       "    </tr>\n",
       "    <tr>\n",
       "      <th>75%</th>\n",
       "      <td>11084.730000</td>\n",
       "      <td>1723.750000</td>\n",
       "      <td>1723.518750</td>\n",
       "      <td>132.280000</td>\n",
       "      <td>3.816667</td>\n",
       "    </tr>\n",
       "    <tr>\n",
       "      <th>max</th>\n",
       "      <td>63554.440000</td>\n",
       "      <td>2067.150000</td>\n",
       "      <td>2067.150000</td>\n",
       "      <td>7436.200000</td>\n",
       "      <td>80.350000</td>\n",
       "    </tr>\n",
       "  </tbody>\n",
       "</table>\n",
       "</div>"
      ],
      "text/plain": [
       "                btc         gold   gold_inter     btc_diff    gold_diff\n",
       "count   1826.000000  1255.000000  1826.000000  1825.000000  1825.000000\n",
       "mean   12206.068281  1464.549402  1463.965813    25.066871     0.257534\n",
       "std    14043.891627   249.291812   249.541542   807.628834    10.594118\n",
       "min      594.080000  1125.700000  1125.700000 -7742.910000  -104.850000\n",
       "25%     3994.982500  1266.175000  1266.262500   -92.900000    -3.066667\n",
       "50%     7924.460000  1329.050000  1328.858333     4.302625     0.300000\n",
       "75%    11084.730000  1723.750000  1723.518750   132.280000     3.816667\n",
       "max    63554.440000  2067.150000  2067.150000  7436.200000    80.350000"
      ]
     },
     "execution_count": 14,
     "metadata": {},
     "output_type": "execute_result"
    }
   ],
   "source": [
    "data.describe()"
   ]
  }
 ],
 "metadata": {
  "interpreter": {
   "hash": "0222d660ba959656e770bc8bca348a42010dac56f045bf47a3d4c09cb49d3f9d"
  },
  "kernelspec": {
   "display_name": "Python 3.10.0 ('trading')",
   "language": "python",
   "name": "python3"
  },
  "language_info": {
   "codemirror_mode": {
    "name": "ipython",
    "version": 3
   },
   "file_extension": ".py",
   "mimetype": "text/x-python",
   "name": "python",
   "nbconvert_exporter": "python",
   "pygments_lexer": "ipython3",
   "version": "3.9.7"
  },
  "orig_nbformat": 4
 },
 "nbformat": 4,
 "nbformat_minor": 2
}
